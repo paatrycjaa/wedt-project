{
 "cells": [
  {
   "cell_type": "code",
   "execution_count": 1,
   "metadata": {},
   "outputs": [],
   "source": [
    "import pandas as pd\n",
    "\n",
    "from src.SemEvalData import SemEvalData\n",
    "from src.JigsawData import JigsawData\n",
    "from nltk import tokenize\n",
    "import nltk\n",
    "from keras.preprocessing.text import Tokenizer,  text_to_word_sequence\n",
    "from keras.engine.topology import Layer\n",
    "from keras import initializers as initializers, regularizers, constraints\n",
    "from keras.callbacks import Callback, ModelCheckpoint\n",
    "from keras.utils.np_utils import to_categorical\n",
    "from keras.layers import Embedding, Input, Dense, LSTM, GRU, Bidirectional, TimeDistributed, Dropout\n",
    "from keras import backend as K\n",
    "from keras import optimizers\n",
    "from keras.models import Model\n",
    "from src.Attention import Attention\n",
    "import re\n",
    "import numpy as np\n",
    "import os\n",
    "import matplotlib.pyplot as plt\n",
    "from sklearn.utils import shuffle\n",
    "from sklearn.metrics import roc_auc_score, accuracy_score\n",
    "from src.preprocessing import get_embeddings_index, get_embeddings_matrix"
   ]
  },
  {
   "cell_type": "code",
   "execution_count": 2,
   "metadata": {},
   "outputs": [],
   "source": [
    "##set to .env\n",
    "MAX_FEATURES = 200000 # maximum number of unique words that should be included in the tokenized word index\n",
    "MAX_WORD_NUM = 50     # maximum number of letters in sentence?\n",
    "EMBED_SIZE = 50  ## same value as in dimension of glove\n",
    "VAL_SPLIT = 0.2  \n",
    "REG_PARAM = 1e-13\n",
    "l2_reg = regularizers.l2(REG_PARAM)"
   ]
  },
  {
   "cell_type": "code",
   "execution_count": 3,
   "metadata": {},
   "outputs": [
    {
     "name": "stderr",
     "output_type": "stream",
     "text": [
      "[nltk_data] Downloading package punkt to\n",
      "[nltk_data]     C:\\Users\\Julia\\AppData\\Roaming\\nltk_data...\n",
      "[nltk_data]   Package punkt is already up-to-date!\n"
     ]
    },
    {
     "data": {
      "text/plain": [
       "True"
      ]
     },
     "execution_count": 3,
     "metadata": {},
     "output_type": "execute_result"
    }
   ],
   "source": [
    "nltk.download('punkt')"
   ]
  },
  {
   "cell_type": "code",
   "execution_count": 4,
   "metadata": {},
   "outputs": [],
   "source": [
    "## load data\n",
    "train_data_semeval = SemEvalData(MAX_WORD_NUM)\n",
    "train_data_semeval.load_data(\"data/tsd_trial.csv\")\n",
    "train_df_preprocessed = train_data_semeval.preprocess()\n",
    "\n",
    "# extra_train = JigsawData(MAX_WORD_NUM)\n",
    "# extra_train.load_data(\"data/train.csv\")\n",
    "# extra_train_df = extra_train.preprocess()"
   ]
  },
  {
   "cell_type": "code",
   "execution_count": 5,
   "metadata": {},
   "outputs": [],
   "source": [
    "paras = []\n",
    "labels = []\n",
    "texts = []\n",
    "sent_lens = []\n",
    "sent_nums = []\n",
    "\n",
    "##tokenize words\n",
    "len_tr = len(train_df_preprocessed)\n",
    "# result = train_df_preprocessed.append(extra_train_df, ignore_index=True, sort=False)\n",
    "result = train_df_preprocessed\n",
    "train_data = {\n",
    "    'sentence':  result.sentences.sum(),\n",
    "    'toxicity_sentence': result.toxicity_sentence.sum()\n",
    "        }\n",
    "\n",
    "train_df = pd.DataFrame (train_data, columns = ['sentence','toxicity_sentence'])\n",
    "\n",
    "tokenizer = Tokenizer(num_words=MAX_FEATURES, oov_token=True)\n",
    "tokenizer.fit_on_texts(train_df.sentence.sum())\n",
    "word_index = tokenizer.word_index\n",
    "word_counts = tokenizer.word_counts\n",
    "###\n"
   ]
  },
  {
   "cell_type": "code",
   "execution_count": 6,
   "metadata": {},
   "outputs": [
    {
     "name": "stdout",
     "output_type": "stream",
     "text": [
      "Total absent words are 11 which is 25.00 % of total words\n"
     ]
    }
   ],
   "source": [
    "embedding_index = get_embeddings_index('data/glove.twitter.27B.50d.txt')\n",
    "\n",
    "embbeding_matrix = get_embeddings_matrix(word_index, EMBED_SIZE, embedding_index)\n",
    "\n",
    "### tokenize data- to rewrite\n",
    "\n",
    "data_temp = np.zeros((len(train_df), MAX_WORD_NUM), dtype='int32')\n",
    "for i, sentence in enumerate(train_df.sentence):\n",
    "    for k, word in enumerate(sentence):\n",
    "        try:\n",
    "            if k<MAX_WORD_NUM and tokenizer.word_index[word]<MAX_FEATURES:\n",
    "                data_temp[i,k] = tokenizer.word_index[word]\n",
    "        except:\n",
    "            #print(word)\n",
    "            pass"
   ]
  },
  {
   "cell_type": "code",
   "execution_count": 7,
   "metadata": {},
   "outputs": [
    {
     "name": "stdout",
     "output_type": "stream",
     "text": [
      "[[21  2 14  4 13  7  2  0 10  2  7  0  4  0 16  5  9  5  8  0  4  8 12  0\n",
      "   4  0 21  6 18  5  3  0  0  0  0  0  0  0  0  0  0  0  0  0  0  0  0  0\n",
      "   0  0]\n",
      " [ 6  3  7  0  8  5  3  0  4  8 15  0 16  5  9  2  0 14  5 16 17 11  6 14\n",
      "   4  3  2 12  0  3 10  4  8  0  3 10  4  3  0  0  0  0  0  0  0  0  0  0\n",
      "   0  0]\n",
      " [10  5 19  0  4 21  5 13  3  0 19  2  0  7  3  5 17  0 17  9  5  3  2 14\n",
      "   3  6  8 18  0  6 12  6  5  3  7  0  4  8 12  0 11  2  3  0  8  4  3 13\n",
      "   9  2]\n",
      " [19  2  0 14  4  8  0  4 11 19  4 15  7  0  7 13 21 16  6  3  0  3 10  2\n",
      "   6  9  0  8  4 16  2  7  0 20  5  9  0  3 10  2  0 12  4  9 19  6  8  0\n",
      "   4 19]\n",
      " [ 6 20  0 17  2  5 17 11  2  0  0 19  2  9  2  0  0  7 16  4  9  3  0  0\n",
      "   3 10  2 15  0 19  5 13 11 12  0  0 21  5 15 14  5  3  3  0  3 10  6  7\n",
      "   0  0]]\n"
     ]
    }
   ],
   "source": [
    "print(data_temp[:5])\n",
    "indices = np.arange(data_temp.shape[0])\n",
    "np.random.shuffle(indices)\n",
    "data = data_temp[indices].copy()\n",
    "##IMPORTANT\n",
    "data = data.astype(np.float32)\n",
    "labels = train_df.toxicity_sentence.iloc[indices]\n",
    "# labels = labels.astype(np.float32)\n",
    "nb_validation_samples = int(VAL_SPLIT * data.shape[0])\n",
    "x_train = data[:-nb_validation_samples]\n",
    "y_train = np.vstack(labels[:-nb_validation_samples])\n",
    "x_val = data[-nb_validation_samples:]\n",
    "y_val = np.vstack(labels[-nb_validation_samples:])"
   ]
  },
  {
   "cell_type": "code",
   "execution_count": 11,
   "metadata": {},
   "outputs": [
    {
     "name": "stdout",
     "output_type": "stream",
     "text": [
      "Model: \"functional_5\"\n",
      "_________________________________________________________________\n",
      "Layer (type)                 Output Shape              Param #   \n",
      "=================================================================\n",
      "input (InputLayer)           [(None, 50)]              0         \n",
      "_________________________________________________________________\n",
      "embedding (Embedding)        (None, 50, 50)            2250      \n",
      "_________________________________________________________________\n",
      "bidirectional (Bidirectional (None, 50, 80)            29120     \n",
      "_________________________________________________________________\n",
      "time_distributed (TimeDistri (None, 50, 70)            5670      \n",
      "_________________________________________________________________\n",
      "attention (Attention)        (None, 70)                5040      \n",
      "_________________________________________________________________\n",
      "dropout_3 (Dropout)          (None, 70)                0         \n",
      "_________________________________________________________________\n",
      "dense_final (Dense)          (None, 1)                 71        \n",
      "=================================================================\n",
      "Total params: 42,151\n",
      "Trainable params: 42,151\n",
      "Non-trainable params: 0\n",
      "_________________________________________________________________\n",
      "None\n"
     ]
    }
   ],
   "source": [
    "embedding_layer = Embedding(len(word_index)+1 ,EMBED_SIZE,weights=[embbeding_matrix], input_length=MAX_WORD_NUM, trainable= True, name='embedding')\n",
    "word_input = Input(shape=MAX_WORD_NUM, dtype='float32', name='input')\n",
    "word_sequences = embedding_layer(word_input)\n",
    "word_lstm = Bidirectional(LSTM(40, return_sequences=True, kernel_regularizer=l2_reg), name='bidirectional')(word_sequences)\n",
    "word_dense = TimeDistributed(Dense(70, kernel_regularizer=l2_reg, name='dense'),name='time_distributed')(word_lstm)\n",
    "word_att = Dropout(0.2)(Attention(name='attention')(word_dense))#\n",
    "preds = Dense(1, activation='relu', name='dense_final')(word_att) ##softmax, elu?\n",
    "model = Model(word_input, preds)\n",
    "model.compile(loss='binary_crossentropy',optimizer='rmsprop',metrics=['acc']) ##adam\n",
    "checkpoint = ModelCheckpoint('best_model.h5', verbose=-2, monitor='val_loss',save_best_only=True, mode='auto')\n",
    "print(model.summary())"
   ]
  },
  {
   "cell_type": "code",
   "execution_count": 12,
   "metadata": {},
   "outputs": [
    {
     "name": "stdout",
     "output_type": "stream",
     "text": [
      "Epoch 1/75\n",
      "7/7 [==============================] - 1s 179ms/step - loss: 3.8551 - acc: 0.5571 - val_loss: 0.6823 - val_acc: 0.6080\n",
      "Epoch 2/75\n",
      "7/7 [==============================] - 1s 79ms/step - loss: 0.7211 - acc: 0.5753 - val_loss: 0.6750 - val_acc: 0.6106\n",
      "Epoch 3/75\n",
      "7/7 [==============================] - 1s 75ms/step - loss: 0.7372 - acc: 0.5696 - val_loss: 0.6778 - val_acc: 0.5829\n",
      "Epoch 4/75\n",
      "7/7 [==============================] - 1s 72ms/step - loss: 0.6988 - acc: 0.5715 - val_loss: 0.6894 - val_acc: 0.5126\n",
      "Epoch 5/75\n",
      "7/7 [==============================] - 0s 71ms/step - loss: 0.7142 - acc: 0.5489 - val_loss: 0.7578 - val_acc: 0.6156\n",
      "Epoch 6/75\n",
      "7/7 [==============================] - 0s 71ms/step - loss: 1.4583 - acc: 0.5602 - val_loss: 0.6651 - val_acc: 0.6181\n",
      "Epoch 7/75\n",
      "7/7 [==============================] - 0s 71ms/step - loss: 0.6846 - acc: 0.5891 - val_loss: 0.6637 - val_acc: 0.6307\n",
      "Epoch 8/75\n",
      "7/7 [==============================] - 0s 71ms/step - loss: 0.6787 - acc: 0.5803 - val_loss: 0.6550 - val_acc: 0.6206\n",
      "Epoch 9/75\n",
      "7/7 [==============================] - 0s 70ms/step - loss: 0.6794 - acc: 0.5778 - val_loss: 0.6727 - val_acc: 0.5402\n",
      "Epoch 10/75\n",
      "7/7 [==============================] - 0s 68ms/step - loss: 0.7358 - acc: 0.5728 - val_loss: 0.8418 - val_acc: 0.6156\n",
      "Epoch 11/75\n",
      "7/7 [==============================] - 0s 68ms/step - loss: 0.7326 - acc: 0.5740 - val_loss: 0.6567 - val_acc: 0.6156\n",
      "Epoch 12/75\n",
      "7/7 [==============================] - 0s 65ms/step - loss: 0.6684 - acc: 0.6073 - val_loss: 0.6562 - val_acc: 0.6357\n",
      "Epoch 13/75\n",
      "7/7 [==============================] - 0s 65ms/step - loss: 0.6745 - acc: 0.5834 - val_loss: 0.6915 - val_acc: 0.4849\n",
      "Epoch 14/75\n",
      "7/7 [==============================] - 0s 69ms/step - loss: 0.7076 - acc: 0.5565 - val_loss: 0.6521 - val_acc: 0.6281\n",
      "Epoch 15/75\n",
      "7/7 [==============================] - 0s 67ms/step - loss: 0.6577 - acc: 0.6060 - val_loss: 0.6475 - val_acc: 0.6181\n",
      "Epoch 16/75\n",
      "7/7 [==============================] - 0s 67ms/step - loss: 0.6921 - acc: 0.5778 - val_loss: 0.6781 - val_acc: 0.5126\n",
      "Epoch 17/75\n",
      "7/7 [==============================] - 0s 66ms/step - loss: 0.6718 - acc: 0.5847 - val_loss: 0.7829 - val_acc: 0.6156\n",
      "Epoch 18/75\n",
      "7/7 [==============================] - 0s 70ms/step - loss: 0.8118 - acc: 0.5690 - val_loss: 0.6462 - val_acc: 0.6307\n",
      "Epoch 19/75\n",
      "7/7 [==============================] - 0s 69ms/step - loss: 0.6591 - acc: 0.6060 - val_loss: 0.6444 - val_acc: 0.6332\n",
      "Epoch 20/75\n",
      "7/7 [==============================] - 0s 65ms/step - loss: 0.6578 - acc: 0.5991 - val_loss: 0.7021 - val_acc: 0.4774\n",
      "Epoch 21/75\n",
      "7/7 [==============================] - 0s 68ms/step - loss: 0.6527 - acc: 0.6079 - val_loss: 0.6375 - val_acc: 0.6307\n",
      "Epoch 22/75\n",
      "7/7 [==============================] - 0s 65ms/step - loss: 0.6505 - acc: 0.6248 - val_loss: 0.9033 - val_acc: 0.6156\n",
      "Epoch 23/75\n",
      "7/7 [==============================] - 0s 65ms/step - loss: 0.7390 - acc: 0.5928 - val_loss: 0.6544 - val_acc: 0.6055\n",
      "Epoch 24/75\n",
      "7/7 [==============================] - 0s 66ms/step - loss: 0.6597 - acc: 0.6085 - val_loss: 0.6475 - val_acc: 0.6206\n",
      "Epoch 25/75\n",
      "7/7 [==============================] - 0s 66ms/step - loss: 0.6527 - acc: 0.6154 - val_loss: 0.6737 - val_acc: 0.5226\n",
      "Epoch 26/75\n",
      "7/7 [==============================] - 0s 66ms/step - loss: 0.6769 - acc: 0.5885 - val_loss: 0.6559 - val_acc: 0.5678\n",
      "Epoch 27/75\n",
      "7/7 [==============================] - 1s 72ms/step - loss: 0.6641 - acc: 0.5935 - val_loss: 0.6240 - val_acc: 0.6482\n",
      "Epoch 28/75\n",
      "7/7 [==============================] - 0s 66ms/step - loss: 0.6426 - acc: 0.6286 - val_loss: 1.0982 - val_acc: 0.4548\n",
      "Epoch 29/75\n",
      "7/7 [==============================] - 0s 67ms/step - loss: 0.7203 - acc: 0.6217 - val_loss: 0.6197 - val_acc: 0.6608\n",
      "Epoch 30/75\n",
      "7/7 [==============================] - 0s 64ms/step - loss: 0.6354 - acc: 0.6449 - val_loss: 0.6296 - val_acc: 0.6407\n",
      "Epoch 31/75\n",
      "7/7 [==============================] - 0s 67ms/step - loss: 0.6312 - acc: 0.6405 - val_loss: 0.6468 - val_acc: 0.6985\n",
      "Epoch 32/75\n",
      "7/7 [==============================] - 0s 70ms/step - loss: 0.6446 - acc: 0.6455 - val_loss: 0.6916 - val_acc: 0.6457\n",
      "Epoch 33/75\n",
      "7/7 [==============================] - 0s 70ms/step - loss: 0.7127 - acc: 0.6217 - val_loss: 0.6177 - val_acc: 0.6935\n",
      "Epoch 34/75\n",
      "7/7 [==============================] - 0s 69ms/step - loss: 0.6302 - acc: 0.6644 - val_loss: 0.6152 - val_acc: 0.7035\n",
      "Epoch 35/75\n",
      "7/7 [==============================] - 0s 68ms/step - loss: 0.6234 - acc: 0.6625 - val_loss: 0.6074 - val_acc: 0.7136\n",
      "Epoch 36/75\n",
      "7/7 [==============================] - 0s 65ms/step - loss: 0.6212 - acc: 0.6625 - val_loss: 0.6087 - val_acc: 0.7136\n",
      "Epoch 37/75\n",
      "7/7 [==============================] - 0s 67ms/step - loss: 0.6240 - acc: 0.6606 - val_loss: 0.5997 - val_acc: 0.7186\n",
      "Epoch 38/75\n",
      "7/7 [==============================] - 0s 65ms/step - loss: 0.6256 - acc: 0.6493 - val_loss: 0.6339 - val_acc: 0.7236\n",
      "Epoch 39/75\n",
      "7/7 [==============================] - ETA: 0s - loss: 0.6200 - acc: 0.681 - 0s 69ms/step - loss: 0.6230 - acc: 0.6763 - val_loss: 0.5913 - val_acc: 0.7085\n",
      "Epoch 40/75\n",
      "7/7 [==============================] - 0s 67ms/step - loss: 0.6161 - acc: 0.6725 - val_loss: 0.9093 - val_acc: 0.4950\n",
      "Epoch 41/75\n",
      "7/7 [==============================] - 0s 68ms/step - loss: 0.6426 - acc: 0.6518 - val_loss: 0.5843 - val_acc: 0.7010\n",
      "Epoch 42/75\n",
      "7/7 [==============================] - 1s 73ms/step - loss: 0.6395 - acc: 0.6782 - val_loss: 0.5832 - val_acc: 0.6960\n",
      "Epoch 43/75\n",
      "7/7 [==============================] - 0s 66ms/step - loss: 0.6085 - acc: 0.6738 - val_loss: 0.5884 - val_acc: 0.7111\n",
      "Epoch 44/75\n",
      "7/7 [==============================] - 0s 67ms/step - loss: 0.6792 - acc: 0.6437 - val_loss: 0.5900 - val_acc: 0.7035\n",
      "Epoch 45/75\n",
      "7/7 [==============================] - 0s 66ms/step - loss: 0.6005 - acc: 0.6876 - val_loss: 0.5915 - val_acc: 0.7136\n",
      "Epoch 46/75\n",
      "7/7 [==============================] - 0s 68ms/step - loss: 0.6214 - acc: 0.6600 - val_loss: 0.6441 - val_acc: 0.6985\n",
      "Epoch 47/75\n",
      "7/7 [==============================] - 1s 72ms/step - loss: 0.6144 - acc: 0.6882 - val_loss: 0.5820 - val_acc: 0.6985\n",
      "Epoch 48/75\n",
      "7/7 [==============================] - 1s 73ms/step - loss: 0.6317 - acc: 0.6669 - val_loss: 0.5976 - val_acc: 0.6859\n",
      "Epoch 49/75\n",
      "7/7 [==============================] - 0s 71ms/step - loss: 0.5903 - acc: 0.6951 - val_loss: 0.6357 - val_acc: 0.7010\n",
      "Epoch 50/75\n",
      "7/7 [==============================] - 0s 65ms/step - loss: 0.6159 - acc: 0.6882 - val_loss: 0.6943 - val_acc: 0.6432\n",
      "Epoch 51/75\n",
      "7/7 [==============================] - 0s 71ms/step - loss: 0.6462 - acc: 0.6631 - val_loss: 0.5735 - val_acc: 0.7111\n",
      "Epoch 52/75\n",
      "7/7 [==============================] - 1s 72ms/step - loss: 0.6405 - acc: 0.6688 - val_loss: 0.5734 - val_acc: 0.7085\n",
      "Epoch 53/75\n",
      "7/7 [==============================] - 0s 70ms/step - loss: 0.5909 - acc: 0.7026 - val_loss: 0.6673 - val_acc: 0.6985\n",
      "Epoch 54/75\n",
      "7/7 [==============================] - 0s 68ms/step - loss: 0.6127 - acc: 0.6775 - val_loss: 0.5759 - val_acc: 0.7161\n",
      "Epoch 55/75\n",
      "7/7 [==============================] - 0s 67ms/step - loss: 0.5797 - acc: 0.7039 - val_loss: 0.6720 - val_acc: 0.6683\n",
      "Epoch 56/75\n",
      "7/7 [==============================] - 0s 65ms/step - loss: 0.6136 - acc: 0.6662 - val_loss: 0.6653 - val_acc: 0.7111\n",
      "Epoch 57/75\n",
      "7/7 [==============================] - 1s 72ms/step - loss: 0.5784 - acc: 0.7020 - val_loss: 0.6683 - val_acc: 0.6884\n",
      "Epoch 58/75\n",
      "7/7 [==============================] - 0s 68ms/step - loss: 0.6665 - acc: 0.6681 - val_loss: 0.5760 - val_acc: 0.7186\n",
      "Epoch 59/75\n",
      "7/7 [==============================] - 0s 67ms/step - loss: 0.5850 - acc: 0.6995 - val_loss: 0.6649 - val_acc: 0.7136\n",
      "Epoch 60/75\n",
      "7/7 [==============================] - 0s 67ms/step - loss: 0.5838 - acc: 0.6964 - val_loss: 0.6326 - val_acc: 0.7060\n",
      "Epoch 61/75\n",
      "7/7 [==============================] - 0s 65ms/step - loss: 0.5759 - acc: 0.7026 - val_loss: 1.1417 - val_acc: 0.6985\n",
      "Epoch 62/75\n",
      "7/7 [==============================] - 0s 65ms/step - loss: 0.7012 - acc: 0.6694 - val_loss: 0.6634 - val_acc: 0.7111\n",
      "Epoch 63/75\n",
      "7/7 [==============================] - 0s 66ms/step - loss: 0.5635 - acc: 0.7051 - val_loss: 0.6763 - val_acc: 0.6784\n"
     ]
    },
    {
     "name": "stdout",
     "output_type": "stream",
     "text": [
      "Epoch 64/75\n",
      "7/7 [==============================] - 0s 65ms/step - loss: 0.5741 - acc: 0.6995 - val_loss: 0.7321 - val_acc: 0.6382\n",
      "Epoch 65/75\n",
      "7/7 [==============================] - 0s 69ms/step - loss: 0.5841 - acc: 0.7020 - val_loss: 0.5764 - val_acc: 0.7085\n",
      "Epoch 66/75\n",
      "7/7 [==============================] - 0s 68ms/step - loss: 0.5824 - acc: 0.7127 - val_loss: 0.6515 - val_acc: 0.7085\n",
      "Epoch 67/75\n",
      "7/7 [==============================] - 0s 65ms/step - loss: 0.5964 - acc: 0.6876 - val_loss: 0.7471 - val_acc: 0.6131\n",
      "Epoch 68/75\n",
      "7/7 [==============================] - 0s 65ms/step - loss: 0.5643 - acc: 0.7008 - val_loss: 0.6718 - val_acc: 0.7035\n",
      "Epoch 69/75\n",
      "7/7 [==============================] - 0s 65ms/step - loss: 0.6104 - acc: 0.6945 - val_loss: 0.6703 - val_acc: 0.7010\n",
      "Epoch 70/75\n",
      "7/7 [==============================] - 0s 66ms/step - loss: 0.5621 - acc: 0.7152 - val_loss: 0.6757 - val_acc: 0.7111\n",
      "Epoch 71/75\n",
      "7/7 [==============================] - 0s 66ms/step - loss: 0.5926 - acc: 0.7039 - val_loss: 0.5975 - val_acc: 0.7035\n",
      "Epoch 72/75\n",
      "7/7 [==============================] - 0s 68ms/step - loss: 0.5427 - acc: 0.7177 - val_loss: 0.9667 - val_acc: 0.6357\n",
      "Epoch 73/75\n",
      "7/7 [==============================] - 1s 74ms/step - loss: 0.6169 - acc: 0.7045 - val_loss: 0.6584 - val_acc: 0.7211\n",
      "Epoch 74/75\n",
      "7/7 [==============================] - 1s 73ms/step - loss: 0.5740 - acc: 0.7146 - val_loss: 0.7298 - val_acc: 0.7085\n",
      "Epoch 75/75\n",
      "7/7 [==============================] - 0s 64ms/step - loss: 0.5606 - acc: 0.7202 - val_loss: 0.7056 - val_acc: 0.6935\n",
      "dict_keys(['loss', 'acc', 'val_loss', 'val_acc'])\n"
     ]
    },
    {
     "data": {
      "image/png": "[encoded data removed]",
      "text/plain": [
       "<Figure size 432x288 with 1 Axes>"
      ]
     },
     "metadata": {
      "needs_background": "light"
     },
     "output_type": "display_data"
    },
    {
     "data": {
      "image/png": "[encoded data removed]",
      "text/plain": [
       "<Figure size 432x288 with 1 Axes>"
      ]
     },
     "metadata": {
      "needs_background": "light"
     },
     "output_type": "display_data"
    }
   ],
   "source": [
    "history = model.fit(x_train, y_train, validation_data=(x_val, y_val), epochs=75, batch_size=256,shuffle=True, callbacks=[checkpoint])\n",
    "print(history.history.keys())\n",
    "plt.plot(history.history['acc'])\n",
    "plt.plot(history.history['val_acc'])\n",
    "plt.title('model accuracy')\n",
    "plt.ylabel('accuracy')\n",
    "plt.xlabel('epoch')\n",
    "plt.legend(['train', 'test'], loc='upper left')\n",
    "plt.show()\n",
    "\n",
    "plt.plot(history.history['loss'])\n",
    "plt.plot(history.history['val_loss'])\n",
    "plt.title('model loss')\n",
    "plt.ylabel('loss')\n",
    "plt.xlabel('epoch')\n",
    "plt.legend(['train', 'test'], loc='upper left')\n",
    "plt.show()\n",
    "\n",
    "model.save('lstm.h5')\n"
   ]
  },
  {
   "cell_type": "code",
   "execution_count": 17,
   "metadata": {},
   "outputs": [],
   "source": [
    "def wordAttentionWeights(sequenceSentence,weights):\n",
    "    \"\"\"\n",
    "    The same function as the AttentionLayer class.\n",
    "    \"\"\"\n",
    "    uit = np.dot(sequenceSentence, weights[0]) + weights[1]\n",
    "    uit = np.tanh(uit)\n",
    "\n",
    "    ait = np.dot(uit, weights[2])\n",
    "    ait = np.squeeze(ait)\n",
    "    ait = np.exp(ait)\n",
    "    ait /= np.sum(ait)\n",
    "    \n",
    "    return ait\n",
    "\n",
    "\n",
    "# Create model from word input to output of dense layer right before the attention layer\n",
    "hidden_word_encoding_out = Model(inputs=model.input, outputs=model.get_layer('time_distributed').output)\n",
    "# Load weights from trained attention layer\n",
    "word_context = model.get_layer('attention').get_weights()\n",
    "# hidden_word_encodings = hidden_word_encoding_out.predict(word_input_array)\n",
    "# # Compute context vector using output of dense layer\n",
    "# ait = wordAttentionWeights(hidden_word_encodings,word_context)"
   ]
  },
  {
   "cell_type": "code",
   "execution_count": 18,
   "metadata": {},
   "outputs": [
    {
     "name": "stdout",
     "output_type": "stream",
     "text": [
      "result: [[0.6725311]] 1.0\n",
      "row: because hes a moron and a bigot.\n"
     ]
    },
    {
     "ename": "ValueError",
     "evalue": "shapes (1,1) and (70,70) not aligned: 1 (dim 1) != 70 (dim 0)",
     "output_type": "error",
     "traceback": [
      "\u001b[1;31m---------------------------------------------------------------------------\u001b[0m",
      "\u001b[1;31mValueError\u001b[0m                                Traceback (most recent call last)",
      "\u001b[1;32m<ipython-input-18-951b930bc75f>\u001b[0m in \u001b[0;36m<module>\u001b[1;34m\u001b[0m\n\u001b[0;32m      7\u001b[0m     \u001b[0mhidden_word_encodings\u001b[0m \u001b[1;33m=\u001b[0m \u001b[0mhidden_word_encoding_out\u001b[0m\u001b[1;33m.\u001b[0m\u001b[0mpredict\u001b[0m\u001b[1;33m(\u001b[0m\u001b[0min_data\u001b[0m\u001b[1;33m)\u001b[0m\u001b[1;33m\u001b[0m\u001b[1;33m\u001b[0m\u001b[0m\n\u001b[0;32m      8\u001b[0m     \u001b[1;31m# Compute context vector using output of dense layer\u001b[0m\u001b[1;33m\u001b[0m\u001b[1;33m\u001b[0m\u001b[1;33m\u001b[0m\u001b[0m\n\u001b[1;32m----> 9\u001b[1;33m     \u001b[0mait\u001b[0m \u001b[1;33m=\u001b[0m \u001b[0mwordAttentionWeights\u001b[0m\u001b[1;33m(\u001b[0m\u001b[0mhidden_word_encodings\u001b[0m\u001b[1;33m,\u001b[0m\u001b[0mword_context\u001b[0m\u001b[1;33m)\u001b[0m\u001b[1;33m\u001b[0m\u001b[1;33m\u001b[0m\u001b[0m\n\u001b[0m\u001b[0;32m     10\u001b[0m     \u001b[0mprint\u001b[0m\u001b[1;33m(\u001b[0m\u001b[1;34m'attention'\u001b[0m\u001b[1;33m,\u001b[0m\u001b[0mait\u001b[0m\u001b[1;33m)\u001b[0m\u001b[1;33m\u001b[0m\u001b[1;33m\u001b[0m\u001b[0m\n",
      "\u001b[1;32m<ipython-input-17-5cc7c3d3b5ab>\u001b[0m in \u001b[0;36mwordAttentionWeights\u001b[1;34m(sequenceSentence, weights)\u001b[0m\n\u001b[0;32m      3\u001b[0m     \u001b[0mThe\u001b[0m \u001b[0msame\u001b[0m \u001b[0mfunction\u001b[0m \u001b[1;32mas\u001b[0m \u001b[0mthe\u001b[0m \u001b[0mAttentionLayer\u001b[0m \u001b[1;32mclass\u001b[0m\u001b[1;33m.\u001b[0m\u001b[1;33m\u001b[0m\u001b[1;33m\u001b[0m\u001b[0m\n\u001b[0;32m      4\u001b[0m     \"\"\"\n\u001b[1;32m----> 5\u001b[1;33m     \u001b[0muit\u001b[0m \u001b[1;33m=\u001b[0m \u001b[0mnp\u001b[0m\u001b[1;33m.\u001b[0m\u001b[0mdot\u001b[0m\u001b[1;33m(\u001b[0m\u001b[0msequenceSentence\u001b[0m\u001b[1;33m,\u001b[0m \u001b[0mweights\u001b[0m\u001b[1;33m[\u001b[0m\u001b[1;36m0\u001b[0m\u001b[1;33m]\u001b[0m\u001b[1;33m)\u001b[0m \u001b[1;33m+\u001b[0m \u001b[0mweights\u001b[0m\u001b[1;33m[\u001b[0m\u001b[1;36m1\u001b[0m\u001b[1;33m]\u001b[0m\u001b[1;33m\u001b[0m\u001b[1;33m\u001b[0m\u001b[0m\n\u001b[0m\u001b[0;32m      6\u001b[0m     \u001b[0muit\u001b[0m \u001b[1;33m=\u001b[0m \u001b[0mnp\u001b[0m\u001b[1;33m.\u001b[0m\u001b[0mtanh\u001b[0m\u001b[1;33m(\u001b[0m\u001b[0muit\u001b[0m\u001b[1;33m)\u001b[0m\u001b[1;33m\u001b[0m\u001b[1;33m\u001b[0m\u001b[0m\n\u001b[0;32m      7\u001b[0m \u001b[1;33m\u001b[0m\u001b[0m\n",
      "\u001b[1;32m<__array_function__ internals>\u001b[0m in \u001b[0;36mdot\u001b[1;34m(*args, **kwargs)\u001b[0m\n",
      "\u001b[1;31mValueError\u001b[0m: shapes (1,1) and (70,70) not aligned: 1 (dim 1) != 70 (dim 0)"
     ]
    }
   ],
   "source": [
    "for i in range(0,11):\n",
    "    #print('data',data[i])\n",
    "    in_data =data[i].reshape(1,MAX_WORD_NUM)\n",
    "    y = model.predict(in_data)\n",
    "    print('result:',y, train_df.iloc[i].toxicity_sentence)\n",
    "    print('row:',train_df.iloc[i].sentence)\n",
    "    hidden_word_encodings = hidden_word_encoding_out.predict(in_data)\n",
    "    # Compute context vector using output of dense layer\n",
    "    ait = wordAttentionWeights(hidden_word_encodings,word_context)\n",
    "    print('attention',ait)"
   ]
  },
  {
   "cell_type": "code",
   "execution_count": null,
   "metadata": {},
   "outputs": [],
   "source": []
  }
 ],
 "metadata": {
  "kernelspec": {
   "display_name": "Python 3",
   "language": "python",
   "name": "python3"
  },
  "language_info": {
   "codemirror_mode": {
    "name": "ipython",
    "version": 3
   },
   "file_extension": ".py",
   "mimetype": "text/x-python",
   "name": "python",
   "nbconvert_exporter": "python",
   "pygments_lexer": "ipython3",
   "version": "3.7.5"
  }
 },
 "nbformat": 4,
 "nbformat_minor": 4
}
